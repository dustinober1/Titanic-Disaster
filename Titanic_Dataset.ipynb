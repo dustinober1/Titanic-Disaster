{
  "nbformat": 4,
  "nbformat_minor": 0,
  "metadata": {
    "colab": {
      "provenance": [],
      "authorship_tag": "ABX9TyNz8vu1U4NSYYLTBrWB43fV",
      "include_colab_link": true
    },
    "kernelspec": {
      "name": "python3",
      "display_name": "Python 3"
    },
    "language_info": {
      "name": "python"
    }
  },
  "cells": [
    {
      "cell_type": "markdown",
      "metadata": {
        "id": "view-in-github",
        "colab_type": "text"
      },
      "source": [
        "<a href=\"https://colab.research.google.com/github/dustinober1/Titanic-Disaster/blob/main/Titanic_Dataset.ipynb\" target=\"_parent\"><img src=\"https://colab.research.google.com/assets/colab-badge.svg\" alt=\"Open In Colab\"/></a>"
      ]
    },
    {
      "cell_type": "markdown",
      "source": [
        "# Classifying Passengers Who Sailed on the Titanic\n",
        "\n",
        "This code reads in a csv file located at the given url \"https://raw.githubusercontent.com/jeffprosise/Practical-Machine-Learning/main/Chapter%203/Data/titanic.csv\" and creates a pandas DataFrame df containing the data.\n",
        "\n",
        "pd.read_csv() is a function from the pandas library that reads a csv file and returns a DataFrame. The argument to read_csv() is the path or url to the csv file.\n",
        "\n",
        "df.head() is a method of the pandas DataFrame that returns the first 5 rows of the DataFrame. It is used here to display the top of the DataFrame.\n",
        "\n",
        "So, the resulting DataFrame shows the first 5 rows of the Titanic dataset, which contains information about the passengers who were aboard the Titanic when it sank, including their age, sex, ticket class, and survival status. The columns in the DataFrame include \"PassengerId\", \"Survived\", \"Pclass\", \"Name\", \"Sex\", \"Age\", \"SibSp\", \"Parch\", \"Ticket\", \"Fare\", \"Cabin\", and \"Embarked\"."
      ],
      "metadata": {
        "id": "odj48koeZOvS"
      }
    },
    {
      "cell_type": "code",
      "source": [
        "import pandas as pd\n",
        "df = pd.read_csv(\"https://raw.githubusercontent.com/jeffprosise/Practical-Machine-Learning/main/Chapter%203/Data/titanic.csv\")\n",
        "df.head()"
      ],
      "metadata": {
        "colab": {
          "base_uri": "https://localhost:8080/",
          "height": 548
        },
        "id": "-fGMXGayZECB",
        "outputId": "8e07b40f-d340-4664-c539-d1b4be2c8e39"
      },
      "execution_count": 3,
      "outputs": [
        {
          "output_type": "execute_result",
          "data": {
            "text/plain": [
              "   PassengerId  Survived  Pclass  \\\n",
              "0            1         0       3   \n",
              "1            2         1       1   \n",
              "2            3         1       3   \n",
              "3            4         1       1   \n",
              "4            5         0       3   \n",
              "\n",
              "                                                Name     Sex   Age  SibSp  \\\n",
              "0                            Braund, Mr. Owen Harris    male  22.0      1   \n",
              "1  Cumings, Mrs. John Bradley (Florence Briggs Th...  female  38.0      1   \n",
              "2                             Heikkinen, Miss. Laina  female  26.0      0   \n",
              "3       Futrelle, Mrs. Jacques Heath (Lily May Peel)  female  35.0      1   \n",
              "4                           Allen, Mr. William Henry    male  35.0      0   \n",
              "\n",
              "   Parch            Ticket     Fare Cabin Embarked  \n",
              "0      0         A/5 21171   7.2500   NaN        S  \n",
              "1      0          PC 17599  71.2833   C85        C  \n",
              "2      0  STON/O2. 3101282   7.9250   NaN        S  \n",
              "3      0            113803  53.1000  C123        S  \n",
              "4      0            373450   8.0500   NaN        S  "
            ],
            "text/html": [
              "\n",
              "  <div id=\"df-1475ffa5-89e9-4610-8c5f-691a29cef66f\">\n",
              "    <div class=\"colab-df-container\">\n",
              "      <div>\n",
              "<style scoped>\n",
              "    .dataframe tbody tr th:only-of-type {\n",
              "        vertical-align: middle;\n",
              "    }\n",
              "\n",
              "    .dataframe tbody tr th {\n",
              "        vertical-align: top;\n",
              "    }\n",
              "\n",
              "    .dataframe thead th {\n",
              "        text-align: right;\n",
              "    }\n",
              "</style>\n",
              "<table border=\"1\" class=\"dataframe\">\n",
              "  <thead>\n",
              "    <tr style=\"text-align: right;\">\n",
              "      <th></th>\n",
              "      <th>PassengerId</th>\n",
              "      <th>Survived</th>\n",
              "      <th>Pclass</th>\n",
              "      <th>Name</th>\n",
              "      <th>Sex</th>\n",
              "      <th>Age</th>\n",
              "      <th>SibSp</th>\n",
              "      <th>Parch</th>\n",
              "      <th>Ticket</th>\n",
              "      <th>Fare</th>\n",
              "      <th>Cabin</th>\n",
              "      <th>Embarked</th>\n",
              "    </tr>\n",
              "  </thead>\n",
              "  <tbody>\n",
              "    <tr>\n",
              "      <th>0</th>\n",
              "      <td>1</td>\n",
              "      <td>0</td>\n",
              "      <td>3</td>\n",
              "      <td>Braund, Mr. Owen Harris</td>\n",
              "      <td>male</td>\n",
              "      <td>22.0</td>\n",
              "      <td>1</td>\n",
              "      <td>0</td>\n",
              "      <td>A/5 21171</td>\n",
              "      <td>7.2500</td>\n",
              "      <td>NaN</td>\n",
              "      <td>S</td>\n",
              "    </tr>\n",
              "    <tr>\n",
              "      <th>1</th>\n",
              "      <td>2</td>\n",
              "      <td>1</td>\n",
              "      <td>1</td>\n",
              "      <td>Cumings, Mrs. John Bradley (Florence Briggs Th...</td>\n",
              "      <td>female</td>\n",
              "      <td>38.0</td>\n",
              "      <td>1</td>\n",
              "      <td>0</td>\n",
              "      <td>PC 17599</td>\n",
              "      <td>71.2833</td>\n",
              "      <td>C85</td>\n",
              "      <td>C</td>\n",
              "    </tr>\n",
              "    <tr>\n",
              "      <th>2</th>\n",
              "      <td>3</td>\n",
              "      <td>1</td>\n",
              "      <td>3</td>\n",
              "      <td>Heikkinen, Miss. Laina</td>\n",
              "      <td>female</td>\n",
              "      <td>26.0</td>\n",
              "      <td>0</td>\n",
              "      <td>0</td>\n",
              "      <td>STON/O2. 3101282</td>\n",
              "      <td>7.9250</td>\n",
              "      <td>NaN</td>\n",
              "      <td>S</td>\n",
              "    </tr>\n",
              "    <tr>\n",
              "      <th>3</th>\n",
              "      <td>4</td>\n",
              "      <td>1</td>\n",
              "      <td>1</td>\n",
              "      <td>Futrelle, Mrs. Jacques Heath (Lily May Peel)</td>\n",
              "      <td>female</td>\n",
              "      <td>35.0</td>\n",
              "      <td>1</td>\n",
              "      <td>0</td>\n",
              "      <td>113803</td>\n",
              "      <td>53.1000</td>\n",
              "      <td>C123</td>\n",
              "      <td>S</td>\n",
              "    </tr>\n",
              "    <tr>\n",
              "      <th>4</th>\n",
              "      <td>5</td>\n",
              "      <td>0</td>\n",
              "      <td>3</td>\n",
              "      <td>Allen, Mr. William Henry</td>\n",
              "      <td>male</td>\n",
              "      <td>35.0</td>\n",
              "      <td>0</td>\n",
              "      <td>0</td>\n",
              "      <td>373450</td>\n",
              "      <td>8.0500</td>\n",
              "      <td>NaN</td>\n",
              "      <td>S</td>\n",
              "    </tr>\n",
              "  </tbody>\n",
              "</table>\n",
              "</div>\n",
              "      <button class=\"colab-df-convert\" onclick=\"convertToInteractive('df-1475ffa5-89e9-4610-8c5f-691a29cef66f')\"\n",
              "              title=\"Convert this dataframe to an interactive table.\"\n",
              "              style=\"display:none;\">\n",
              "        \n",
              "  <svg xmlns=\"http://www.w3.org/2000/svg\" height=\"24px\"viewBox=\"0 0 24 24\"\n",
              "       width=\"24px\">\n",
              "    <path d=\"M0 0h24v24H0V0z\" fill=\"none\"/>\n",
              "    <path d=\"M18.56 5.44l.94 2.06.94-2.06 2.06-.94-2.06-.94-.94-2.06-.94 2.06-2.06.94zm-11 1L8.5 8.5l.94-2.06 2.06-.94-2.06-.94L8.5 2.5l-.94 2.06-2.06.94zm10 10l.94 2.06.94-2.06 2.06-.94-2.06-.94-.94-2.06-.94 2.06-2.06.94z\"/><path d=\"M17.41 7.96l-1.37-1.37c-.4-.4-.92-.59-1.43-.59-.52 0-1.04.2-1.43.59L10.3 9.45l-7.72 7.72c-.78.78-.78 2.05 0 2.83L4 21.41c.39.39.9.59 1.41.59.51 0 1.02-.2 1.41-.59l7.78-7.78 2.81-2.81c.8-.78.8-2.07 0-2.86zM5.41 20L4 18.59l7.72-7.72 1.47 1.35L5.41 20z\"/>\n",
              "  </svg>\n",
              "      </button>\n",
              "      \n",
              "  <style>\n",
              "    .colab-df-container {\n",
              "      display:flex;\n",
              "      flex-wrap:wrap;\n",
              "      gap: 12px;\n",
              "    }\n",
              "\n",
              "    .colab-df-convert {\n",
              "      background-color: #E8F0FE;\n",
              "      border: none;\n",
              "      border-radius: 50%;\n",
              "      cursor: pointer;\n",
              "      display: none;\n",
              "      fill: #1967D2;\n",
              "      height: 32px;\n",
              "      padding: 0 0 0 0;\n",
              "      width: 32px;\n",
              "    }\n",
              "\n",
              "    .colab-df-convert:hover {\n",
              "      background-color: #E2EBFA;\n",
              "      box-shadow: 0px 1px 2px rgba(60, 64, 67, 0.3), 0px 1px 3px 1px rgba(60, 64, 67, 0.15);\n",
              "      fill: #174EA6;\n",
              "    }\n",
              "\n",
              "    [theme=dark] .colab-df-convert {\n",
              "      background-color: #3B4455;\n",
              "      fill: #D2E3FC;\n",
              "    }\n",
              "\n",
              "    [theme=dark] .colab-df-convert:hover {\n",
              "      background-color: #434B5C;\n",
              "      box-shadow: 0px 1px 3px 1px rgba(0, 0, 0, 0.15);\n",
              "      filter: drop-shadow(0px 1px 2px rgba(0, 0, 0, 0.3));\n",
              "      fill: #FFFFFF;\n",
              "    }\n",
              "  </style>\n",
              "\n",
              "      <script>\n",
              "        const buttonEl =\n",
              "          document.querySelector('#df-1475ffa5-89e9-4610-8c5f-691a29cef66f button.colab-df-convert');\n",
              "        buttonEl.style.display =\n",
              "          google.colab.kernel.accessAllowed ? 'block' : 'none';\n",
              "\n",
              "        async function convertToInteractive(key) {\n",
              "          const element = document.querySelector('#df-1475ffa5-89e9-4610-8c5f-691a29cef66f');\n",
              "          const dataTable =\n",
              "            await google.colab.kernel.invokeFunction('convertToInteractive',\n",
              "                                                     [key], {});\n",
              "          if (!dataTable) return;\n",
              "\n",
              "          const docLinkHtml = 'Like what you see? Visit the ' +\n",
              "            '<a target=\"_blank\" href=https://colab.research.google.com/notebooks/data_table.ipynb>data table notebook</a>'\n",
              "            + ' to learn more about interactive tables.';\n",
              "          element.innerHTML = '';\n",
              "          dataTable['output_type'] = 'display_data';\n",
              "          await google.colab.output.renderOutput(dataTable, element);\n",
              "          const docLink = document.createElement('div');\n",
              "          docLink.innerHTML = docLinkHtml;\n",
              "          element.appendChild(docLink);\n",
              "        }\n",
              "      </script>\n",
              "    </div>\n",
              "  </div>\n",
              "  "
            ]
          },
          "metadata": {},
          "execution_count": 3
        }
      ]
    },
    {
      "cell_type": "markdown",
      "source": [
        "This code displays information about the DataFrame df using the info() method of the DataFrame.\n",
        "\n",
        "info() provides a summary of the DataFrame, including the number of non-null values in each column, the data type of each column, and the amount of memory used by the DataFrame."
      ],
      "metadata": {
        "id": "ZqJG5dx6Z4fj"
      }
    },
    {
      "cell_type": "code",
      "source": [
        "df.info()"
      ],
      "metadata": {
        "colab": {
          "base_uri": "https://localhost:8080/"
        },
        "id": "n7xYwzAxZqZ7",
        "outputId": "9e5f6765-86d0-4e52-e6e4-65baee361398"
      },
      "execution_count": 4,
      "outputs": [
        {
          "output_type": "stream",
          "name": "stdout",
          "text": [
            "<class 'pandas.core.frame.DataFrame'>\n",
            "RangeIndex: 891 entries, 0 to 890\n",
            "Data columns (total 12 columns):\n",
            " #   Column       Non-Null Count  Dtype  \n",
            "---  ------       --------------  -----  \n",
            " 0   PassengerId  891 non-null    int64  \n",
            " 1   Survived     891 non-null    int64  \n",
            " 2   Pclass       891 non-null    int64  \n",
            " 3   Name         891 non-null    object \n",
            " 4   Sex          891 non-null    object \n",
            " 5   Age          714 non-null    float64\n",
            " 6   SibSp        891 non-null    int64  \n",
            " 7   Parch        891 non-null    int64  \n",
            " 8   Ticket       891 non-null    object \n",
            " 9   Fare         891 non-null    float64\n",
            " 10  Cabin        204 non-null    object \n",
            " 11  Embarked     889 non-null    object \n",
            "dtypes: float64(2), int64(5), object(5)\n",
            "memory usage: 83.7+ KB\n"
          ]
        }
      ]
    },
    {
      "cell_type": "markdown",
      "source": [
        "This code performs several operations on the DataFrame df:\n",
        "\n",
        "1. It selects a subset of the columns in the DataFrame, specifically \"Survived\", \"Age\", \"Sex\", and \"Pclass\", using the indexing operator [].\n",
        "\n",
        "2. It uses the pd.get_dummies() function to create one-hot encoded columns for the \"Sex\" and \"Pclass\" columns of the DataFrame. This converts the categorical variables \"Sex\" and \"Pclass\" into numerical variables that can be used in a machine learning model.\n",
        "3. It drops any rows with missing values using the dropna() method of the DataFrame.\n",
        "4. Finally, it displays the first 5 rows of the resulting DataFrame using the head() method of the DataFrame.\n",
        "\n",
        "The resulting DataFrame contains one-hot encoded columns for \"Sex\" and \"Pclass\", with no missing values. The columns in the DataFrame are \"Survived\", \"Age\", \"Sex_female\", \"Sex_male\", \"Pclass_1\", \"Pclass_2\", and \"Pclass_3\". The \"Survived\" column indicates whether the passenger survived the sinking of the Titanic (1) or not (0), the \"Age\" column contains the passenger's age, and the one-hot encoded columns indicate the passenger's sex and ticket class.\n",
        "\n",
        "\n",
        "\n"
      ],
      "metadata": {
        "id": "5dg9dpjqaGI0"
      }
    },
    {
      "cell_type": "code",
      "source": [
        "df = df[[\"Survived\", \"Age\", \"Sex\", \"Pclass\"]]\n",
        "df = pd.get_dummies(df, columns=[\"Sex\", \"Pclass\"])\n",
        "df.dropna(inplace=True) \n",
        "df.head()"
      ],
      "metadata": {
        "colab": {
          "base_uri": "https://localhost:8080/",
          "height": 206
        },
        "id": "1MGyHmiUZ9-e",
        "outputId": "6650a057-0108-4ce1-d7ee-13bbf58a62aa"
      },
      "execution_count": 5,
      "outputs": [
        {
          "output_type": "execute_result",
          "data": {
            "text/plain": [
              "   Survived   Age  Sex_female  Sex_male  Pclass_1  Pclass_2  Pclass_3\n",
              "0         0  22.0           0         1         0         0         1\n",
              "1         1  38.0           1         0         1         0         0\n",
              "2         1  26.0           1         0         0         0         1\n",
              "3         1  35.0           1         0         1         0         0\n",
              "4         0  35.0           0         1         0         0         1"
            ],
            "text/html": [
              "\n",
              "  <div id=\"df-505d6537-3077-4edb-ba86-1272c966f24a\">\n",
              "    <div class=\"colab-df-container\">\n",
              "      <div>\n",
              "<style scoped>\n",
              "    .dataframe tbody tr th:only-of-type {\n",
              "        vertical-align: middle;\n",
              "    }\n",
              "\n",
              "    .dataframe tbody tr th {\n",
              "        vertical-align: top;\n",
              "    }\n",
              "\n",
              "    .dataframe thead th {\n",
              "        text-align: right;\n",
              "    }\n",
              "</style>\n",
              "<table border=\"1\" class=\"dataframe\">\n",
              "  <thead>\n",
              "    <tr style=\"text-align: right;\">\n",
              "      <th></th>\n",
              "      <th>Survived</th>\n",
              "      <th>Age</th>\n",
              "      <th>Sex_female</th>\n",
              "      <th>Sex_male</th>\n",
              "      <th>Pclass_1</th>\n",
              "      <th>Pclass_2</th>\n",
              "      <th>Pclass_3</th>\n",
              "    </tr>\n",
              "  </thead>\n",
              "  <tbody>\n",
              "    <tr>\n",
              "      <th>0</th>\n",
              "      <td>0</td>\n",
              "      <td>22.0</td>\n",
              "      <td>0</td>\n",
              "      <td>1</td>\n",
              "      <td>0</td>\n",
              "      <td>0</td>\n",
              "      <td>1</td>\n",
              "    </tr>\n",
              "    <tr>\n",
              "      <th>1</th>\n",
              "      <td>1</td>\n",
              "      <td>38.0</td>\n",
              "      <td>1</td>\n",
              "      <td>0</td>\n",
              "      <td>1</td>\n",
              "      <td>0</td>\n",
              "      <td>0</td>\n",
              "    </tr>\n",
              "    <tr>\n",
              "      <th>2</th>\n",
              "      <td>1</td>\n",
              "      <td>26.0</td>\n",
              "      <td>1</td>\n",
              "      <td>0</td>\n",
              "      <td>0</td>\n",
              "      <td>0</td>\n",
              "      <td>1</td>\n",
              "    </tr>\n",
              "    <tr>\n",
              "      <th>3</th>\n",
              "      <td>1</td>\n",
              "      <td>35.0</td>\n",
              "      <td>1</td>\n",
              "      <td>0</td>\n",
              "      <td>1</td>\n",
              "      <td>0</td>\n",
              "      <td>0</td>\n",
              "    </tr>\n",
              "    <tr>\n",
              "      <th>4</th>\n",
              "      <td>0</td>\n",
              "      <td>35.0</td>\n",
              "      <td>0</td>\n",
              "      <td>1</td>\n",
              "      <td>0</td>\n",
              "      <td>0</td>\n",
              "      <td>1</td>\n",
              "    </tr>\n",
              "  </tbody>\n",
              "</table>\n",
              "</div>\n",
              "      <button class=\"colab-df-convert\" onclick=\"convertToInteractive('df-505d6537-3077-4edb-ba86-1272c966f24a')\"\n",
              "              title=\"Convert this dataframe to an interactive table.\"\n",
              "              style=\"display:none;\">\n",
              "        \n",
              "  <svg xmlns=\"http://www.w3.org/2000/svg\" height=\"24px\"viewBox=\"0 0 24 24\"\n",
              "       width=\"24px\">\n",
              "    <path d=\"M0 0h24v24H0V0z\" fill=\"none\"/>\n",
              "    <path d=\"M18.56 5.44l.94 2.06.94-2.06 2.06-.94-2.06-.94-.94-2.06-.94 2.06-2.06.94zm-11 1L8.5 8.5l.94-2.06 2.06-.94-2.06-.94L8.5 2.5l-.94 2.06-2.06.94zm10 10l.94 2.06.94-2.06 2.06-.94-2.06-.94-.94-2.06-.94 2.06-2.06.94z\"/><path d=\"M17.41 7.96l-1.37-1.37c-.4-.4-.92-.59-1.43-.59-.52 0-1.04.2-1.43.59L10.3 9.45l-7.72 7.72c-.78.78-.78 2.05 0 2.83L4 21.41c.39.39.9.59 1.41.59.51 0 1.02-.2 1.41-.59l7.78-7.78 2.81-2.81c.8-.78.8-2.07 0-2.86zM5.41 20L4 18.59l7.72-7.72 1.47 1.35L5.41 20z\"/>\n",
              "  </svg>\n",
              "      </button>\n",
              "      \n",
              "  <style>\n",
              "    .colab-df-container {\n",
              "      display:flex;\n",
              "      flex-wrap:wrap;\n",
              "      gap: 12px;\n",
              "    }\n",
              "\n",
              "    .colab-df-convert {\n",
              "      background-color: #E8F0FE;\n",
              "      border: none;\n",
              "      border-radius: 50%;\n",
              "      cursor: pointer;\n",
              "      display: none;\n",
              "      fill: #1967D2;\n",
              "      height: 32px;\n",
              "      padding: 0 0 0 0;\n",
              "      width: 32px;\n",
              "    }\n",
              "\n",
              "    .colab-df-convert:hover {\n",
              "      background-color: #E2EBFA;\n",
              "      box-shadow: 0px 1px 2px rgba(60, 64, 67, 0.3), 0px 1px 3px 1px rgba(60, 64, 67, 0.15);\n",
              "      fill: #174EA6;\n",
              "    }\n",
              "\n",
              "    [theme=dark] .colab-df-convert {\n",
              "      background-color: #3B4455;\n",
              "      fill: #D2E3FC;\n",
              "    }\n",
              "\n",
              "    [theme=dark] .colab-df-convert:hover {\n",
              "      background-color: #434B5C;\n",
              "      box-shadow: 0px 1px 3px 1px rgba(0, 0, 0, 0.15);\n",
              "      filter: drop-shadow(0px 1px 2px rgba(0, 0, 0, 0.3));\n",
              "      fill: #FFFFFF;\n",
              "    }\n",
              "  </style>\n",
              "\n",
              "      <script>\n",
              "        const buttonEl =\n",
              "          document.querySelector('#df-505d6537-3077-4edb-ba86-1272c966f24a button.colab-df-convert');\n",
              "        buttonEl.style.display =\n",
              "          google.colab.kernel.accessAllowed ? 'block' : 'none';\n",
              "\n",
              "        async function convertToInteractive(key) {\n",
              "          const element = document.querySelector('#df-505d6537-3077-4edb-ba86-1272c966f24a');\n",
              "          const dataTable =\n",
              "            await google.colab.kernel.invokeFunction('convertToInteractive',\n",
              "                                                     [key], {});\n",
              "          if (!dataTable) return;\n",
              "\n",
              "          const docLinkHtml = 'Like what you see? Visit the ' +\n",
              "            '<a target=\"_blank\" href=https://colab.research.google.com/notebooks/data_table.ipynb>data table notebook</a>'\n",
              "            + ' to learn more about interactive tables.';\n",
              "          element.innerHTML = '';\n",
              "          dataTable['output_type'] = 'display_data';\n",
              "          await google.colab.output.renderOutput(dataTable, element);\n",
              "          const docLink = document.createElement('div');\n",
              "          docLink.innerHTML = docLinkHtml;\n",
              "          element.appendChild(docLink);\n",
              "        }\n",
              "      </script>\n",
              "    </div>\n",
              "  </div>\n",
              "  "
            ]
          },
          "metadata": {},
          "execution_count": 5
        }
      ]
    },
    {
      "cell_type": "markdown",
      "source": [
        "This code uses the train_test_split() function from scikit-learn to split the DataFrame df into training and testing sets.\n",
        "\n",
        "The input variables x and y are defined using the DataFrame df: x is a DataFrame that contains all the columns of df except for the \"Survived\" column, and y is a Series that contains only the \"Survived\" column of df.\n",
        "\n",
        "The train_test_split() function then splits the data into training and testing sets. The test_size parameter specifies the fraction of the data that should be used for testing (in this case, 20% of the data). The stratify parameter is used to ensure that the classes in y are evenly represented in both the training and testing sets. The random_state parameter is used to ensure that the results are reproducible.\n",
        "\n",
        "The resulting variables x_train, x_test, y_train, and y_test contain the training and testing sets, respectively. The x_train and x_test DataFrames contain all the columns of x, while y_train and y_test are Series containing only the \"Survived\" column."
      ],
      "metadata": {
        "id": "zm3KF9Aza60Y"
      }
    },
    {
      "cell_type": "code",
      "source": [
        "from sklearn.model_selection import train_test_split\n",
        "\n",
        "x = df.drop(\"Survived\", axis=1)\n",
        "y = df[\"Survived\"]\n",
        "\n",
        "x_train, x_test, y_train, y_test = train_test_split(x, y, test_size=0.2,\n",
        "                                                    stratify=y,\n",
        "                                                    random_state=0)"
      ],
      "metadata": {
        "id": "EZ7H918eafce"
      },
      "execution_count": 6,
      "outputs": []
    },
    {
      "cell_type": "markdown",
      "source": [
        "This code trains a logistic regression model using scikit-learn's LogisticRegression class, and then uses the trained model to make predictions on the test data and calculate the model's accuracy.\n",
        "\n",
        "The first line of code creates an instance of the LogisticRegression class with a random_state of 0. The random_state parameter is used to ensure that the results are reproducible.\n",
        "\n",
        "The second line of code fits the logistic regression model to the training data using the fit() method of the model object. The fit() method learns the parameters of the logistic regression model from the training data.\n",
        "\n",
        "The third line of code uses the score() method of the model object to calculate the accuracy of the model on the test data. The score() method returns the mean accuracy on the given test data and labels. The accuracy is a measure of how well the model is able to correctly predict the survival status of passengers in the test data, and is calculated as the fraction of correct predictions."
      ],
      "metadata": {
        "id": "09shydwJbho5"
      }
    },
    {
      "cell_type": "code",
      "source": [
        "from sklearn.linear_model import LogisticRegression\n",
        "\n",
        "model = LogisticRegression(random_state=0)\n",
        "model.fit(x_train, y_train)\n",
        "model.score(x_test, y_test)"
      ],
      "metadata": {
        "colab": {
          "base_uri": "https://localhost:8080/"
        },
        "id": "ZgM4zfcxbTOB",
        "outputId": "e41eac13-15f4-4226-e9bc-1755a1851d52"
      },
      "execution_count": 7,
      "outputs": [
        {
          "output_type": "execute_result",
          "data": {
            "text/plain": [
              "0.8321678321678322"
            ]
          },
          "metadata": {},
          "execution_count": 7
        }
      ]
    },
    {
      "cell_type": "markdown",
      "source": [
        "This code uses scikit-learn's cross_val_score() function to perform cross-validation on the logistic regression model.\n",
        "\n",
        "The cross_val_score() function is a convenient way to perform k-fold cross-validation, which involves splitting the data into k subsets, and using each subset in turn as a validation set while the model is trained on the remaining k-1 subsets.\n",
        "\n",
        "The first argument to cross_val_score() is the model object (model). The second and third arguments are the input features (x) and target variable (y). The cv parameter is used to specify the number of folds to use in the cross-validation (in this case, 5 folds).\n",
        "\n",
        "The cross_val_score() function returns an array of accuracy scores, one for each fold. The mean() method is then used to compute the mean accuracy score across all the folds. This gives an estimate of the model's performance on unseen data, and is a more reliable estimate than the single accuracy score computed on the test data in the previous code snippet."
      ],
      "metadata": {
        "id": "SuXgw68WEHVK"
      }
    },
    {
      "cell_type": "code",
      "source": [
        "from sklearn.model_selection import cross_val_score\n",
        "\n",
        "cross_val_score(model, x, y, cv=5).mean()"
      ],
      "metadata": {
        "colab": {
          "base_uri": "https://localhost:8080/"
        },
        "id": "eyXH8xDTD29u",
        "outputId": "d6fd45c2-1918-491e-e8a7-05a4e273cebf"
      },
      "execution_count": 8,
      "outputs": [
        {
          "output_type": "execute_result",
          "data": {
            "text/plain": [
              "0.7857480547621394"
            ]
          },
          "metadata": {},
          "execution_count": 8
        }
      ]
    },
    {
      "cell_type": "markdown",
      "source": [
        "This code creates a confusion matrix plot using scikit-learn's ConfusionMatrixDisplay class.\n",
        "\n",
        "The from_estimator() method of the ConfusionMatrixDisplay class is used to generate the confusion matrix for the logistic regression model. The first argument is the model object (model). The second and third arguments are the input features (x_test) and target variable (y_test) for the test data.\n",
        "\n",
        "The display_labels parameter is used to specify the class labels (\"Perished\" and \"Survived\") that will be displayed on the x and y axes of the plot.\n",
        "\n",
        "The cmap parameter is used to specify the color map for the plot (in this case, \"Blues\").\n",
        "\n",
        "The xticks_rotation parameter is used to specify the rotation angle for the x-axis tick labels (in this case, \"vertical\").\n",
        "\n",
        "The resulting plot shows the number of true positives (top left), false positives (top right), false negatives (bottom left), and true negatives (bottom right) for the logistic regression model on the test data. The diagonal elements (true positives and true negatives) show the number of correct predictions, while the off-diagonal elements (false positives and false negatives) show the number of incorrect predictions."
      ],
      "metadata": {
        "id": "DvkJXGJzEaVM"
      }
    },
    {
      "cell_type": "code",
      "source": [
        "%matplotlib inline \n",
        "from sklearn.metrics import ConfusionMatrixDisplay as cmd\n",
        "\n",
        "cmd.from_estimator(model, x_test, y_test,\n",
        "                   display_labels = [\"Perished\", \"Survived\"],\n",
        "                   cmap=\"Blues\", xticks_rotation=\"vertical\")"
      ],
      "metadata": {
        "colab": {
          "base_uri": "https://localhost:8080/",
          "height": 331
        },
        "id": "K3aH8rcoEPhK",
        "outputId": "965d386d-9432-4125-d3cf-737b7743a97c"
      },
      "execution_count": 9,
      "outputs": [
        {
          "output_type": "execute_result",
          "data": {
            "text/plain": [
              "<sklearn.metrics._plot.confusion_matrix.ConfusionMatrixDisplay at 0x7f26bc619940>"
            ]
          },
          "metadata": {},
          "execution_count": 9
        },
        {
          "output_type": "display_data",
          "data": {
            "text/plain": [
              "<Figure size 432x288 with 2 Axes>"
            ],
            "image/png": "[encoded data removed]"
          },
          "metadata": {
            "needs_background": "light"
          }
        }
      ]
    },
    {
      "cell_type": "markdown",
      "source": [
        "In this code, scikit-learn's precision_score and recall_score functions are used to calculate the precision and recall of the logistic regression model's predictions on the test data.\n",
        "\n",
        "The predicted target variable (y_pred) is obtained by calling the predict method on the model object with the input features (x_test) as the argument.\n",
        "\n",
        "The precision_score function is then called with the true target variable (y_test) and the predicted target variable (y_pred) as arguments to compute the precision of the model's predictions.\n",
        "\n",
        "Similarly, the recall_score function is called with y_test and y_pred as arguments to compute the recall of the model's predictions.\n",
        "\n",
        "The recall variable is assigned the same value as sensitivity, as these terms are often used interchangeably to refer to the same metric.\n",
        "\n",
        "The specificity variable is computed by calling the recall_score function again with y_test, y_pred, and pos_label=0 as arguments. The pos_label parameter is used to specify which class label is considered the \"positive\" class for the calculation of recall. In this case, the value of pos_label is set to 0 (which corresponds to the \"Perished\" class) to calculate the recall of the \"Perished\" class. The resulting value is equal to the specificity of the model's predictions for the \"Survived\" class."
      ],
      "metadata": {
        "id": "6MBjpIGSFmSW"
      }
    },
    {
      "cell_type": "code",
      "source": [
        "from sklearn.metrics import precision_score, recall_score\n",
        "\n",
        "y_pred = model.predict(x_test)\n",
        "precision = precision_score(y_test, y_pred)\n",
        "recall = recall_score(y_test, y_pred)\n",
        "sensitivity = recall\n",
        "specificity = recall_score(y_test, y_pred, pos_label=0)"
      ],
      "metadata": {
        "id": "2SRWuSc_EyUH"
      },
      "execution_count": 10,
      "outputs": []
    },
    {
      "cell_type": "code",
      "source": [
        "print(f\"Precision: {precision}\")\n",
        "print(f\"Recall: {recall}\")\n",
        "print(f\"Sensitivity: {sensitivity}\")\n",
        "print(f\"Specificity: {specificity}\")"
      ],
      "metadata": {
        "colab": {
          "base_uri": "https://localhost:8080/"
        },
        "id": "k_n49GbFFmoM",
        "outputId": "fe97d958-71a3-45e0-c9c5-0858ed990572"
      },
      "execution_count": 11,
      "outputs": [
        {
          "output_type": "stream",
          "name": "stdout",
          "text": [
            "Precision: 0.8541666666666666\n",
            "Recall: 0.7068965517241379\n",
            "Sensitivity: 0.7068965517241379\n",
            "Specificity: 0.9176470588235294\n"
          ]
        }
      ]
    },
    {
      "cell_type": "markdown",
      "source": [
        "This code creates a pandas DataFrame called female with one row of input features for a hypothetical female passenger with age 30, who is traveling in first class.\n",
        "\n",
        "The DataFrame is then passed as an argument to the predict method of the logistic regression model model. The value of model.predict(female) is an array containing the predicted class label (0 or 1) for the given input features. Since female corresponds to a hypothetical female passenger, the predicted class label represents the model's prediction of whether the passenger would have survived the Titanic disaster.\n",
        "\n",
        "The [0] at the end of the code is used to extract the first (and only) element of the predicted class label array as a scalar value, which is then returned by the expression. Therefore, the code predicts whether the hypothetical female passenger would have survived the Titanic disaster."
      ],
      "metadata": {
        "id": "imbfBpu7GPjB"
      }
    },
    {
      "cell_type": "code",
      "source": [
        "female = pd.DataFrame({\"Age\": [30], \"Sex_female\": [1], \"Sex_male\": [0],\n",
        "                       \"Pclass_1\": [1], \"Pclass_2\": [0], \"Pclass_3\": [0]})\n",
        "model.predict(female)[0]"
      ],
      "metadata": {
        "colab": {
          "base_uri": "https://localhost:8080/"
        },
        "id": "141aJQjTGJVT",
        "outputId": "0012ad13-1da2-488f-8d58-a9eca95e55a3"
      },
      "execution_count": 12,
      "outputs": [
        {
          "output_type": "execute_result",
          "data": {
            "text/plain": [
              "1"
            ]
          },
          "metadata": {},
          "execution_count": 12
        }
      ]
    },
    {
      "cell_type": "markdown",
      "source": [
        "The code below calculates the predicted probability of survival for the hypothetical female passenger with input features specified in the female DataFrame. The predict_proba method of the logistic regression model model returns the predicted probabilities of each class label (0 and 1) for the input features. Since we are interested in the probability of survival (class label 1), we access the probability of class label 1 by indexing the second element of the predicted probabilities array returned by model.predict_proba(female) using [0][1].\n",
        "\n",
        "The formatted string f\"Probability of Survival: {probability: .1%}\" prints the probability of survival as a percentage with one decimal point. The output of the code tells us the predicted probability of survival for the hypothetical female passenger."
      ],
      "metadata": {
        "id": "mUwcyKHXG1mY"
      }
    },
    {
      "cell_type": "code",
      "source": [
        "probability = model.predict_proba(female)[0][1]\n",
        "print(f\"Probability of Survival: {probability: .1%}\")"
      ],
      "metadata": {
        "colab": {
          "base_uri": "https://localhost:8080/"
        },
        "id": "ymahAlP_GsAI",
        "outputId": "cec14916-da78-46db-af7e-ccfb9e9d1340"
      },
      "execution_count": 13,
      "outputs": [
        {
          "output_type": "stream",
          "name": "stdout",
          "text": [
            "Probability of Survival:  91.6%\n"
          ]
        }
      ]
    },
    {
      "cell_type": "markdown",
      "source": [
        "The predict method of the logistic regression model model is used to predict the class label (0 or 1) for the input features. We pass the male DataFrame as input to the predict method and access the first element of the predicted class label array using [0].\n",
        "\n",
        "Next, the predict_proba method of the logistic regression model model is used to calculate the predicted probabilities of each class label (0 and 1) for the input features. Since we are interested in the probability of survival (class label 1), we access the probability of class label 1 by indexing the second element of the predicted probabilities array returned by model.predict_proba(male) using [0][1].\n",
        "\n",
        "Finally, the formatted string f\"Probability of Survival: {probability: .1%}\" prints the probability of survival as a percentage with one decimal point. The output of the code tells us the predicted probability of survival for the hypothetical male passenger."
      ],
      "metadata": {
        "id": "HTI3LbECHN6c"
      }
    },
    {
      "cell_type": "code",
      "source": [
        "male = pd.DataFrame({\"Age\": [60], \"Sex_female\": [0], \"Sex_male\": [1],\n",
        "                       \"Pclass_1\": [0], \"Pclass_2\": [0], \"Pclass_3\": [1]})\n",
        "model.predict(female)[0]\n",
        "probability = model.predict_proba(male)[0][1]\n",
        "print(f\"Probability of Survival: {probability: .1%}\")"
      ],
      "metadata": {
        "colab": {
          "base_uri": "https://localhost:8080/"
        },
        "id": "tfSXNOwVHD5h",
        "outputId": "4730d7f5-8da1-4cbc-ba37-f10e5c6bc454"
      },
      "execution_count": 14,
      "outputs": [
        {
          "output_type": "stream",
          "name": "stdout",
          "text": [
            "Probability of Survival:  2.9%\n"
          ]
        }
      ]
    },
    {
      "cell_type": "code",
      "source": [],
      "metadata": {
        "id": "AEOeM4-KHVMi"
      },
      "execution_count": 14,
      "outputs": []
    }
  ]
}